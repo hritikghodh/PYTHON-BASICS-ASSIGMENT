{
  "nbformat": 4,
  "nbformat_minor": 0,
  "metadata": {
    "colab": {
      "provenance": []
    },
    "kernelspec": {
      "name": "python3",
      "display_name": "Python 3"
    },
    "language_info": {
      "name": "python"
    }
  },
  "cells": [
    {
      "cell_type": "markdown",
      "source": [
        "Q-1 Write a Python program to print \"Hello, World\"?"
      ],
      "metadata": {
        "id": "jN-yQBqiqmNd"
      }
    },
    {
      "cell_type": "code",
      "execution_count": 1,
      "metadata": {
        "colab": {
          "base_uri": "https://localhost:8080/"
        },
        "id": "Rj9SksY2qQXl",
        "outputId": "b7552276-c62d-40e1-ab9f-6713317c626a"
      },
      "outputs": [
        {
          "output_type": "stream",
          "name": "stdout",
          "text": [
            "Hello, World\n"
          ]
        }
      ],
      "source": [
        "print(\"Hello, World\")\n"
      ]
    },
    {
      "cell_type": "markdown",
      "source": [
        "Q-2 Write a Python program that displays your name and age?\n"
      ],
      "metadata": {
        "id": "pIJxUsspq2NK"
      }
    },
    {
      "cell_type": "code",
      "source": [
        "name = \"Hritik Ghosh\"\n",
        "age = 22"
      ],
      "metadata": {
        "id": "ahr2Ailgq6ha"
      },
      "execution_count": 14,
      "outputs": []
    },
    {
      "cell_type": "code",
      "source": [
        "print( name )\n"
      ],
      "metadata": {
        "colab": {
          "base_uri": "https://localhost:8080/"
        },
        "id": "2PL1DXGXrL0S",
        "outputId": "3966a361-7488-44cc-bc8d-ddca4ece5d3f"
      },
      "execution_count": 17,
      "outputs": [
        {
          "output_type": "stream",
          "name": "stdout",
          "text": [
            "Hritik Ghosh\n"
          ]
        }
      ]
    },
    {
      "cell_type": "code",
      "source": [
        "print(age)"
      ],
      "metadata": {
        "colab": {
          "base_uri": "https://localhost:8080/"
        },
        "id": "NeJd-dwmrnPy",
        "outputId": "9718df68-663d-456b-95ed-5e97fc1a203d"
      },
      "execution_count": 18,
      "outputs": [
        {
          "output_type": "stream",
          "name": "stdout",
          "text": [
            "22\n"
          ]
        }
      ]
    },
    {
      "cell_type": "markdown",
      "source": [
        "Q-3) Write code to print all the pre-defined keywords in Python using the keyword library?"
      ],
      "metadata": {
        "id": "oIw6Gfl-t_f6"
      }
    },
    {
      "cell_type": "code",
      "source": [
        "import keyword\n",
        "\n",
        "# Print all predefined keywords in Python\n",
        "print(keyword.kwlist)\n"
      ],
      "metadata": {
        "colab": {
          "base_uri": "https://localhost:8080/"
        },
        "id": "Or-RBho8uFuw",
        "outputId": "f0a0b117-e80f-40af-9e2b-3d2d07e67d90"
      },
      "execution_count": 19,
      "outputs": [
        {
          "output_type": "stream",
          "name": "stdout",
          "text": [
            "['False', 'None', 'True', 'and', 'as', 'assert', 'async', 'await', 'break', 'class', 'continue', 'def', 'del', 'elif', 'else', 'except', 'finally', 'for', 'from', 'global', 'if', 'import', 'in', 'is', 'lambda', 'nonlocal', 'not', 'or', 'pass', 'raise', 'return', 'try', 'while', 'with', 'yield']\n"
          ]
        }
      ]
    },
    {
      "cell_type": "markdown",
      "source": [
        "Q-4) Write a program that checks if a given word is a Python keyword?\n"
      ],
      "metadata": {
        "id": "kGnEVOFAuYxB"
      }
    },
    {
      "cell_type": "code",
      "source": [
        "import keyword\n",
        "\n",
        "# Function to check if a word is a Python keyword\n",
        "def check_keyword(word):\n",
        "    if keyword.iskeyword(word):\n",
        "        print(f\"'{word}' is a Python keyword.\")\n",
        "    else:\n",
        "        print(f\"'{word}' is not a Python keyword.\")\n",
        "\n",
        "# Input from user\n",
        "word = input(\"Enter a word to check if it's a Python keyword: \")\n",
        "\n",
        "# Check if the word is a Python keyword\n",
        "check_keyword(word)\n"
      ],
      "metadata": {
        "colab": {
          "base_uri": "https://localhost:8080/"
        },
        "id": "7s3MmW2aue0i",
        "outputId": "ee0829de-f740-4d73-b071-54ff191e260a"
      },
      "execution_count": 21,
      "outputs": [
        {
          "output_type": "stream",
          "name": "stdout",
          "text": [
            "Enter a word to check if it's a Python keyword: break\n",
            "'break' is a Python keyword.\n"
          ]
        }
      ]
    },
    {
      "cell_type": "markdown",
      "source": [
        "Q-5)Create a list and tuple in Python, and demonstrate how attempting to change an element works differently\n",
        "for each?"
      ],
      "metadata": {
        "id": "lQvV9fbBu3-R"
      }
    },
    {
      "cell_type": "code",
      "source": [
        "# Creating a list\n",
        "my_list = [10, 20, 30, 40]\n",
        "\n",
        "# Creating a tuple\n",
        "my_tuple = (10, 20, 30, 40)\n",
        "\n",
        "# Attempting to change an element in the list\n",
        "my_list[1] = 100\n",
        "print(\"List after modification:\", my_list)\n",
        "\n",
        "# Attempting to change an element in the tuple (this will raise an error)\n",
        "try:\n",
        "    my_tuple[1] = 100\n",
        "except TypeError as e:\n",
        "    print(\"Error when trying to modify tuple:\", e)\n"
      ],
      "metadata": {
        "colab": {
          "base_uri": "https://localhost:8080/"
        },
        "id": "qhIed1mWvT5U",
        "outputId": "cbef2f03-1c15-4ee1-d8e5-7531ea1f61c4"
      },
      "execution_count": 22,
      "outputs": [
        {
          "output_type": "stream",
          "name": "stdout",
          "text": [
            "List after modification: [10, 100, 30, 40]\n",
            "Error when trying to modify tuple: 'tuple' object does not support item assignment\n"
          ]
        }
      ]
    },
    {
      "cell_type": "markdown",
      "source": [
        "Q-6)Write a function to demonstrate the behavior of mutable and immutable arguments?"
      ],
      "metadata": {
        "id": "xQb5wHPovQIK"
      }
    },
    {
      "cell_type": "code",
      "source": [
        "def demonstrate_mutable_immutable(mutable_arg, immutable_arg):\n",
        "    print(\"Before modification:\")\n",
        "    print(\"Mutable argument:\", mutable_arg)\n",
        "    print(\"Immutable argument:\", immutable_arg)\n",
        "\n",
        "    # Modifying mutable argument (list)\n",
        "    mutable_arg.append(100)\n",
        "\n",
        "    # Attempting to modify immutable argument (integer)\n",
        "    try:\n",
        "        immutable_arg += 10\n",
        "    except TypeError as e:\n",
        "        print(\"Error while modifying immutable argument:\", e)\n",
        "\n",
        "    print(\"\\nAfter modification:\")\n",
        "    print(\"Mutable argument:\", mutable_arg)\n",
        "    print(\"Immutable argument:\", immutable_arg)\n",
        "\n",
        "\n",
        "# Test the function\n",
        "my_list = [1, 2, 3]\n",
        "my_int = 5\n",
        "\n",
        "demonstrate_mutable_immutable(my_list, my_int)\n"
      ],
      "metadata": {
        "colab": {
          "base_uri": "https://localhost:8080/"
        },
        "id": "L0UbV5Hrvn5l",
        "outputId": "fadfb2b8-ffcd-4c33-9c45-f65b593e3105"
      },
      "execution_count": 23,
      "outputs": [
        {
          "output_type": "stream",
          "name": "stdout",
          "text": [
            "Before modification:\n",
            "Mutable argument: [1, 2, 3]\n",
            "Immutable argument: 5\n",
            "\n",
            "After modification:\n",
            "Mutable argument: [1, 2, 3, 100]\n",
            "Immutable argument: 15\n"
          ]
        }
      ]
    },
    {
      "cell_type": "markdown",
      "source": [
        "Q-7)Write a function to demonstrate the behavior of mutable and immutable arguments?"
      ],
      "metadata": {
        "id": "IvPnNHS-wgyx"
      }
    },
    {
      "cell_type": "code",
      "source": [
        "def demonstrate_mutable_immutable(mutable_arg, immutable_arg):\n",
        "    print(\"Before modification:\")\n",
        "    print(\"Mutable argument:\", mutable_arg)\n",
        "    print(\"Immutable argument:\", immutable_arg)\n",
        "\n",
        "    # Modifying mutable argument (list)\n",
        "    mutable_arg.append(100)\n",
        "    print(\"\\nAfter modifying mutable argument:\")\n",
        "    print(\"Mutable argument:\", mutable_arg)\n",
        "\n",
        "    # Attempting to modify immutable argument (integer)\n",
        "    immutable_arg += 10\n",
        "    print(\"\\nAfter modifying immutable argument:\")\n",
        "    print(\"Immutable argument:\", immutable_arg)\n",
        "\n",
        "# Test the function\n",
        "my_list = [1, 2, 3]\n",
        "my_int = 5\n",
        "\n",
        "demonstrate_mutable_immutable(my_list, my_int)\n"
      ],
      "metadata": {
        "colab": {
          "base_uri": "https://localhost:8080/"
        },
        "id": "9aRxbP5gwmlX",
        "outputId": "3e3ff84b-bbf3-4306-d704-6cbe06692e91"
      },
      "execution_count": 24,
      "outputs": [
        {
          "output_type": "stream",
          "name": "stdout",
          "text": [
            "Before modification:\n",
            "Mutable argument: [1, 2, 3]\n",
            "Immutable argument: 5\n",
            "\n",
            "After modifying mutable argument:\n",
            "Mutable argument: [1, 2, 3, 100]\n",
            "\n",
            "After modifying immutable argument:\n",
            "Immutable argument: 15\n"
          ]
        }
      ]
    },
    {
      "cell_type": "markdown",
      "source": [
        "Q-8)Write a program to demonstrate the use of logical operators?"
      ],
      "metadata": {
        "id": "JiYL2__LwyCZ"
      }
    },
    {
      "cell_type": "code",
      "source": [
        "def demonstrate_logical_operators(a, b):\n",
        "    # Demonstrating the 'and' operator\n",
        "    if a > 0 and b > 0:\n",
        "        print(\"Both a and b are positive numbers.\")\n",
        "    else:\n",
        "        print(\"Either a or b is not a positive number.\")\n",
        "\n",
        "    # Demonstrating the 'or' operator\n",
        "    if a > 0 or b > 0:\n",
        "        print(\"At least one of a or b is positive.\")\n",
        "    else:\n",
        "        print(\"Neither a nor b is positive.\")\n",
        "\n",
        "    # Demonstrating the 'not' operator\n",
        "    if not a < 0:\n",
        "        print(\"a is not a negative number.\")\n",
        "    if not b < 0:\n",
        "        print(\"b is not a negative number.\")\n",
        "\n",
        "# Test the function with different values of a and b\n",
        "a = 5\n",
        "b = -3\n",
        "demonstrate_logical_operators(a, b)\n"
      ],
      "metadata": {
        "colab": {
          "base_uri": "https://localhost:8080/"
        },
        "id": "ttTxDCz6w2yO",
        "outputId": "e9499c2f-4622-4bef-a4f5-93b19b136841"
      },
      "execution_count": 25,
      "outputs": [
        {
          "output_type": "stream",
          "name": "stdout",
          "text": [
            "Either a or b is not a positive number.\n",
            "At least one of a or b is positive.\n",
            "a is not a negative number.\n"
          ]
        }
      ]
    },
    {
      "cell_type": "markdown",
      "source": [
        "Q-9)Write a Python program to convert user input from string to integer, float, and boolean types?"
      ],
      "metadata": {
        "id": "I6H5G9Juw_44"
      }
    },
    {
      "cell_type": "code",
      "source": [
        "# Taking user input as a string\n",
        "user_input = input(\"Enter a value: \")\n",
        "\n",
        "# Converting the input to integer\n",
        "try:\n",
        "    integer_value = int(user_input)\n",
        "    print(\"Converted to integer:\", integer_value)\n",
        "except ValueError:\n",
        "    print(\"Could not convert to integer.\")\n",
        "\n",
        "# Converting the input to float\n",
        "try:\n",
        "    float_value = float(user_input)\n",
        "    print(\"Converted to float:\", float_value)\n",
        "except ValueError:\n",
        "    print(\"Could not convert to float.\")\n",
        "\n",
        "# Converting the input to boolean\n",
        "# In Python, any non-empty string is considered True, and an empty string is considered False\n",
        "boolean_value = bool(user_input)\n",
        "print(\"Converted to boolean:\", boolean_value)\n"
      ],
      "metadata": {
        "colab": {
          "base_uri": "https://localhost:8080/"
        },
        "id": "BAT3T0_DxEei",
        "outputId": "5fe001e1-35da-43eb-8799-916a185d2e2a"
      },
      "execution_count": 26,
      "outputs": [
        {
          "output_type": "stream",
          "name": "stdout",
          "text": [
            "Enter a value: 278\n",
            "Converted to integer: 278\n",
            "Converted to float: 278.0\n",
            "Converted to boolean: True\n"
          ]
        }
      ]
    }
  ]
}